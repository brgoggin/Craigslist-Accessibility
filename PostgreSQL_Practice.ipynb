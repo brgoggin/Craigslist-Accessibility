{
 "cells": [
  {
   "cell_type": "markdown",
   "metadata": {},
   "source": [
    "# Server Example"
   ]
  },
  {
   "cell_type": "code",
   "execution_count": null,
   "metadata": {
    "collapsed": true
   },
   "outputs": [],
   "source": [
    "import psycopg2\n",
    "import json"
   ]
  },
  {
   "cell_type": "code",
   "execution_count": 34,
   "metadata": {
    "collapsed": false
   },
   "outputs": [],
   "source": [
    "# Read in credentials from private settings file\n",
    "with open('settings.json') as settings_file:    \n",
    "    settings = json.load(settings_file)"
   ]
  },
  {
   "cell_type": "code",
   "execution_count": 39,
   "metadata": {
    "collapsed": false
   },
   "outputs": [],
   "source": [
    "#try to connect to database on local machine\n",
    "dbname = settings['dbname']\n",
    "user = settings['user']\n",
    "host = settings['host']\n",
    "password = settings['password']\n",
    "\n",
    "conn_str = \"dbname = {0} user = {1} host = {2} password = {3}\".format(dbname, user, host, password)\n",
    "\n",
    "try:\n",
    "    conn = psycopg2.connect(conn_str)\n",
    "except:\n",
    "    print (\"I am unable to connect to the database\")"
   ]
  },
  {
   "cell_type": "code",
   "execution_count": 40,
   "metadata": {
    "collapsed": true
   },
   "outputs": [],
   "source": [
    "#define a cursor to explore the database\n",
    "cur = conn.cursor()"
   ]
  },
  {
   "cell_type": "code",
   "execution_count": 41,
   "metadata": {
    "collapsed": true
   },
   "outputs": [],
   "source": [
    "#query database\n",
    "query = \"select * from rental_listings limit 5;\"\n",
    "\n",
    "try:\n",
    "    cur.execute(query)\n",
    "except:\n",
    "    conn.rollback() #rollback to start of transaction if syntax is messed up. "
   ]
  },
  {
   "cell_type": "code",
   "execution_count": 42,
   "metadata": {
    "collapsed": false
   },
   "outputs": [
    {
     "data": {
      "text/plain": [
       "[('5873872320',\n",
       "  datetime.date(2016, 11, 13),\n",
       "  'muskegon',\n",
       "  '',\n",
       "  600.0,\n",
       "  2.0,\n",
       "  700.0,\n",
       "  0.857142857142857,\n",
       "  -86.235567,\n",
       "  43.219625,\n",
       "  'Muskegon',\n",
       "  '261210005004029',\n",
       "  'MI',\n",
       "  None),\n",
       " ('5873877617',\n",
       "  datetime.date(2016, 11, 13),\n",
       "  'merced',\n",
       "  'Merced',\n",
       "  925.0,\n",
       "  2.0,\n",
       "  874.0,\n",
       "  1.058352402746,\n",
       "  -120.508,\n",
       "  37.3302,\n",
       "  'Merced',\n",
       "  '060470010021060',\n",
       "  'CA',\n",
       "  None),\n",
       " ('5849836436',\n",
       "  datetime.date(2016, 11, 13),\n",
       "  'bozeman',\n",
       "  '2990 West Winds Way',\n",
       "  1850.0,\n",
       "  3.0,\n",
       "  1566.0,\n",
       "  1.18135376756066,\n",
       "  -111.079491,\n",
       "  45.696211,\n",
       "  'Gallatin',\n",
       "  '300310005031204',\n",
       "  'MT',\n",
       "  None),\n",
       " ('5873915596',\n",
       "  datetime.date(2016, 11, 13),\n",
       "  'myrtlebeach',\n",
       "  'LANDING ROAD',\n",
       "  1200.0,\n",
       "  2.0,\n",
       "  1150.0,\n",
       "  1.04347826086957,\n",
       "  -78.877855,\n",
       "  33.727425,\n",
       "  'Horry',\n",
       "  '450510501021018',\n",
       "  'SC',\n",
       "  None),\n",
       " ('5862944298',\n",
       "  datetime.date(2016, 11, 13),\n",
       "  'fayar',\n",
       "  '2444 Jeremiah',\n",
       "  1000.0,\n",
       "  3.0,\n",
       "  1425.0,\n",
       "  0.701754385964912,\n",
       "  -94.193988,\n",
       "  36.09674,\n",
       "  'Washington',\n",
       "  '051430105072017',\n",
       "  'AR',\n",
       "  None)]"
      ]
     },
     "execution_count": 42,
     "metadata": {},
     "output_type": "execute_result"
    }
   ],
   "source": [
    "results = cur.fetchall()\n",
    "results"
   ]
  },
  {
   "cell_type": "code",
   "execution_count": 43,
   "metadata": {
    "collapsed": true
   },
   "outputs": [],
   "source": [
    "#close connection\n",
    "conn.close()"
   ]
  },
  {
   "cell_type": "markdown",
   "metadata": {},
   "source": [
    "# Local Example"
   ]
  },
  {
   "cell_type": "code",
   "execution_count": null,
   "metadata": {
    "collapsed": true
   },
   "outputs": [],
   "source": [
    "#try to connect to database on local machine\n",
    "try:\n",
    "    conn = psycopg2.connect(\"dbname='postgres' user='postgres' host='localhost' password='insertpasswordhere'\")\n",
    "except:\n",
    "    print (\"I am unable to connect to the database\")"
   ]
  },
  {
   "cell_type": "code",
   "execution_count": null,
   "metadata": {
    "collapsed": true
   },
   "outputs": [],
   "source": [
    "#define a cursor to explore the database\n",
    "cur = conn.cursor()"
   ]
  },
  {
   "cell_type": "code",
   "execution_count": null,
   "metadata": {
    "collapsed": true
   },
   "outputs": [],
   "source": [
    "#query database\n",
    "query = \"select * from weather;\"\n",
    "\n",
    "try:\n",
    "    cur.execute(query)\n",
    "except:\n",
    "    conn.rollback() #rollback to start of transaction if syntax is messed up. "
   ]
  },
  {
   "cell_type": "code",
   "execution_count": null,
   "metadata": {
    "collapsed": true
   },
   "outputs": [],
   "source": [
    "results = cur.fetchall()\n",
    "results"
   ]
  },
  {
   "cell_type": "code",
   "execution_count": null,
   "metadata": {
    "collapsed": true
   },
   "outputs": [],
   "source": [
    "#close connection\n",
    "conn.close()"
   ]
  }
 ],
 "metadata": {
  "anaconda-cloud": {},
  "kernelspec": {
   "display_name": "Python [Root]",
   "language": "python",
   "name": "Python [Root]"
  },
  "language_info": {
   "codemirror_mode": {
    "name": "ipython",
    "version": 3
   },
   "file_extension": ".py",
   "mimetype": "text/x-python",
   "name": "python",
   "nbconvert_exporter": "python",
   "pygments_lexer": "ipython3",
   "version": "3.5.2"
  }
 },
 "nbformat": 4,
 "nbformat_minor": 0
}
